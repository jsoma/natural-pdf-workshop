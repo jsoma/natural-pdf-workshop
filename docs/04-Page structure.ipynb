{
 "cells": [
  {
   "cell_type": "markdown",
   "metadata": {},
   "source": [
    "**Slides:** [slides.pdf](./slides.pdf)"
   ]
  },
  {
   "cell_type": "markdown",
   "id": "083f0389-864d-438e-a92a-e75a57e9b515",
   "metadata": {
    "editable": true,
    "slideshow": {
     "slide_type": ""
    },
    "tags": []
   },
   "source": [
    "# Multi-page flows\n",
    "\n",
    "*Sometimes* you have data that flows over multiple columns, or pages, or just... isn't arranged in a \"normal\" top-to-bottom way."
   ]
  },
  {
   "cell_type": "code",
   "metadata": {},
   "source": [
    "# First we need to install some things!\n",
    "# Run this cell to get the necessary software\n",
    "# Install required packages\n",
    "!pip install --upgrade --quiet natural-pdf[ai]\n",
    "\n",
    "print('\u2713 Packages installed!')",
    "\n",
    "# Useful links:\n",
    "# - Microsoft's table transfer (TATR): https://github.com/microsoft/table-transformer\n",
    "# - YOLO document layout: https://github.com/opendatalab/DocLayout-YOLO/\n",
    "# - LayoutLMv3: https://huggingface.co/docs/transformers/en/model_doc/layoutlmv3\n",
    "# - merveenoyan/smol-vision: https://github.com/merveenoyan/smol-vision\n"
   ],
   "execution_count": null,
   "outputs": []
  },
  {
   "cell_type": "code",
   "execution_count": null,
   "id": "1e4d1f9f",
   "metadata": {
    "editable": true,
    "slideshow": {
     "slide_type": ""
    },
    "tags": []
   },
   "outputs": [],
   "source": [
    "from natural_pdf import PDF\n",
    "\n",
    "pdf = PDF(\"https://github.com/jsoma/natural-pdf/raw/refs/heads/main/pdfs/multicolumn.pdf\")\n",
    "page = pdf.pages[0]\n",
    "page.show()"
   ]
  },
  {
   "cell_type": "markdown",
   "id": "f7d9ebd2-e9bc-4209-bd15-e0d071b994c2",
   "metadata": {},
   "source": [
    "Natural PDF deals with these through [reflowing pages](https://jsoma.github.io/natural-pdf/reflowing-pages/), where you grab specific regions of a page and then paste them back together either vertically or horizontally.\n",
    "\n",
    "In this example we're splitting the page into three columns."
   ]
  },
  {
   "cell_type": "code",
   "execution_count": null,
   "id": "47e87098",
   "metadata": {},
   "outputs": [],
   "source": [
    "left = page.region(left=0, right=page.width/3, top=0, bottom=page.height)\n",
    "mid = page.region(left=page.width/3, right=page.width/3*2, top=0, bottom=page.height)\n",
    "right = page.region(left=page.width/3*2, right=page.width, top=0, bottom=page.height)\n",
    "mid.show()"
   ]
  },
  {
   "cell_type": "markdown",
   "id": "463dcf12-1d15-441a-94ec-b01a9cf7a1f0",
   "metadata": {},
   "source": [
    "Now let's **stack them on top of each other**."
   ]
  },
  {
   "cell_type": "code",
   "execution_count": null,
   "id": "8757142f",
   "metadata": {},
   "outputs": [],
   "source": [
    "from natural_pdf.flows import Flow\n",
    "\n",
    "stacked = [left, mid, right]\n",
    "flow = Flow(segments=stacked, arrangement=\"vertical\")\n",
    "flow.show()"
   ]
  },
  {
   "cell_type": "markdown",
   "id": "cfe252cc-c95b-4230-bea6-6001d613db0a",
   "metadata": {},
   "source": [
    "Now any time we want to use spatial comparisons, like \"find something below this,\" it *just works*."
   ]
  },
  {
   "cell_type": "code",
   "execution_count": null,
   "id": "81dc8f25",
   "metadata": {},
   "outputs": [],
   "source": [
    "region = (\n",
    "    flow\n",
    "    .find('text:contains(\"Table one\")')\n",
    "    .below(\n",
    "        until='text:contains(\"Table two\")',\n",
    "        include_endpoint=False\n",
    "    )\n",
    ")\n",
    "region.show()"
   ]
  },
  {
   "cell_type": "markdown",
   "id": "677ea3d6-85ad-40bd-bd5d-db36b8db2f88",
   "metadata": {},
   "source": [
    "It works for text, it works for tables, it works for **anything**. Let's see how we can get both tables on the page.\n",
    "\n",
    "First we find the bold headers \u2013 we need to say `width > 10` because otherwise it pulls some weird tiny empty boxes."
   ]
  },
  {
   "cell_type": "code",
   "execution_count": null,
   "id": "2ec5da5a",
   "metadata": {},
   "outputs": [],
   "source": [
    "(\n",
    "    flow\n",
    "    .find_all('text[width>10]:bold')\n",
    "    .show()\n",
    ")"
   ]
  },
  {
   "cell_type": "markdown",
   "id": "08fabb6a-c38a-4189-a903-96571c4d8b85",
   "metadata": {},
   "source": [
    "Then we take each of those headers, and go down down down until we either hit another bold header *or* the \"Here is a bit more text\" text. "
   ]
  },
  {
   "cell_type": "code",
   "execution_count": null,
   "id": "ebbff17c",
   "metadata": {},
   "outputs": [],
   "source": [
    "regions = (\n",
    "    flow\n",
    "    .find_all('text[width>10]:bold')\n",
    "    .below(\n",
    "        until='text[width>10]:bold|text:contains(\"Here is a bit\")',\n",
    "        include_endpoint=False\n",
    "    )\n",
    ")\n",
    "regions.show()\n"
   ]
  },
  {
   "cell_type": "markdown",
   "id": "3bc4102f-9aad-4ad3-ba49-25fa8ad022e2",
   "metadata": {},
   "source": [
    "Now we can use `.extract_table()` on *each individual region* to give us a bunch of tables."
   ]
  },
  {
   "cell_type": "code",
   "execution_count": null,
   "id": "4e1eab15",
   "metadata": {},
   "outputs": [],
   "source": [
    "regions[1].extract_table().to_df()"
   ]
  },
  {
   "cell_type": "markdown",
   "id": "28743eaa-7bcb-4a6c-bc9a-6b8e2af931e3",
   "metadata": {},
   "source": [
    "# Layout analysis and magic table extraction\n",
    "\n",
    "Similar to how we have feelings about what things are on a page - headers, tables, graphics \u2013 computers also have opinions! Just like some AI models have been trained to do things like identify pictures of cats and dogs or spell check, others are capable of **layout analysis** - [YOLO](https://huggingface.co/spaces/omoured/YOLOv11-Document-Layout-Analysis), [surya](https://github.com/datalab-to/surya), etc etc etc. There are a million! [TATR](https://github.com/microsoft/table-transformer) is one of the useful ones for us, it's *just for table detection*.\n",
    "\n",
    "But honestly: they're mostly trained on academic papers, so they aren't very good at the kinds of awful documents that journalists have to deal with. And with Natural PDF, you're probably selecting `text[size>12]:bold` in order to find headlines, anyway. *But* if your page has no readable text, they might be able to provide some useful information.\n",
    "\n",
    "Let's start with [YOLO](https://github.com/opendatalab/DocLayout-YOLO), the default."
   ]
  },
  {
   "cell_type": "code",
   "execution_count": null,
   "id": "4dc204a7-c065-4471-a09b-c84443c08735",
   "metadata": {},
   "outputs": [],
   "source": [
    "from natural_pdf import PDF\n",
    "\n",
    "pdf = PDF(\"https://github.com/jsoma/natural-pdf/raw/refs/heads/main/pdfs/needs-ocr.pdf\")\n",
    "page = pdf.pages[0]"
   ]
  },
  {
   "cell_type": "code",
   "execution_count": null,
   "id": "850ce61b-d844-4c14-a70c-8892be65e513",
   "metadata": {},
   "outputs": [],
   "source": [
    "# default is YOLO\n",
    "page.analyze_layout()\n",
    "(\n",
    "    page\n",
    "    .find_all('region')\n",
    "    .show(group_by='type', width=800)\n",
    ")"
   ]
  },
  {
   "cell_type": "code",
   "execution_count": null,
   "id": "f9a34012-ade8-442c-ad11-147185370a8f",
   "metadata": {},
   "outputs": [],
   "source": [
    "page.find('table').apply_ocr()\n",
    "text = page.extract_text()\n",
    "print(text)"
   ]
  },
  {
   "cell_type": "markdown",
   "id": "99f46397-e834-40d8-ab2b-b349eb4abff4",
   "metadata": {},
   "source": [
    "### Better layout analysis with tables"
   ]
  },
  {
   "cell_type": "markdown",
   "id": "f76eee44-5283-4408-aa18-86165a0a67db",
   "metadata": {},
   "source": [
    "Let's see what **TATR** - Microsoft's table transformer \u2013 finds for us."
   ]
  },
  {
   "cell_type": "code",
   "execution_count": null,
   "id": "f716c6da-cb47-42e4-8ab0-61a1fd9a6eb3",
   "metadata": {},
   "outputs": [],
   "source": [
    "page.analyze_layout('tatr')\n",
    "page.find_all('region').show(group_by='type', width=800)"
   ]
  },
  {
   "cell_type": "markdown",
   "id": "8a272c7e-0367-4050-916d-ac4fb6ca39bd",
   "metadata": {},
   "source": [
    "There's just *so much stuff* that TATR is finding that it's all overlapping.\n",
    "\n",
    "For example, we can just look at one piece at a time."
   ]
  },
  {
   "cell_type": "code",
   "execution_count": null,
   "id": "2d76045c-c4d5-4b45-bef2-9f99393bdd4d",
   "metadata": {},
   "outputs": [],
   "source": [
    "# table-cell\n",
    "# table-row\n",
    "# table-column\n",
    "page.find_all('region[type=table-row]').expand(-2).show(crop=True)"
   ]
  },
  {
   "cell_type": "code",
   "execution_count": null,
   "id": "5315c914-ea6e-4da6-814f-aab11c596b66",
   "metadata": {},
   "outputs": [],
   "source": [
    "# Grab all of the columns\n",
    "cols = page.find_all('region[type=table-column]')\n",
    "\n",
    "# Take one of the columns and apply OCR to it\n",
    "cols[2].apply_ocr()\n",
    "text = cols[2].extract_text()\n",
    "print(text)"
   ]
  },
  {
   "cell_type": "code",
   "execution_count": null,
   "id": "0e3efd17-1748-40fc-aa08-44812903746c",
   "metadata": {},
   "outputs": [],
   "source": [
    "len(cols[2].find_all('text[source=ocr]'))"
   ]
  },
  {
   "cell_type": "code",
   "execution_count": null,
   "id": "c03308ee-a76d-4c2f-bbe6-ca29a0df83ec",
   "metadata": {},
   "outputs": [],
   "source": [
    "page.find('table').show()"
   ]
  },
  {
   "cell_type": "code",
   "execution_count": null,
   "id": "97a2971a-5cd3-42d3-ac09-21307607e806",
   "metadata": {},
   "outputs": [],
   "source": [
    "data = page.find('table').extract_table()\n",
    "data"
   ]
  },
  {
   "cell_type": "markdown",
   "id": "12eaec8e-ac18-4ef0-b665-855194080eb8",
   "metadata": {},
   "source": [
    "## YOLO"
   ]
  },
  {
   "cell_type": "code",
   "execution_count": null,
   "id": "6b669609-6796-466c-848a-8ba6a1810fd2",
   "metadata": {},
   "outputs": [],
   "source": [
    "page.analyze_layout()\n",
    "page.find_all('region').show(group_by=\"type\")"
   ]
  },
  {
   "cell_type": "code",
   "execution_count": null,
   "id": "38c33322-0c0e-4b0b-ab75-129c12b363e2",
   "metadata": {},
   "outputs": [],
   "source": [
    "page.find(\"region[type=table]\").apply_ocr()"
   ]
  },
  {
   "cell_type": "code",
   "execution_count": null,
   "id": "c96ec51e-cadd-4401-b180-63e17bea23da",
   "metadata": {},
   "outputs": [],
   "source": [
    "text = page.extract_text()\n",
    "print(text)"
   ]
  },
  {
   "cell_type": "code",
   "execution_count": null,
   "id": "8e4b80b1-3628-4abf-b0ad-92c89458a332",
   "metadata": {
    "editable": true,
    "slideshow": {
     "slide_type": ""
    },
    "tags": []
   },
   "outputs": [],
   "source": [
    "from natural_pdf.analyzers.guides import Guides\n",
    "\n",
    "table_area = page.find(\"region[type=table]\")\n",
    "guides = Guides(table_area)\n",
    "guides.horizontal.from_lines()\n",
    "guides.vertical.from_content([\"Description\", \"Level\", \"Repeat\"])\n",
    "guides.vertical.snap_to_whitespace()\n",
    "guides.show()"
   ]
  },
  {
   "cell_type": "code",
   "execution_count": null,
   "id": "2fe58b06-fe99-4b06-9b71-953e913656f7",
   "metadata": {},
   "outputs": [],
   "source": [
    "guides.extract_table().to_df()"
   ]
  },
  {
   "cell_type": "code",
   "execution_count": null,
   "id": "b8aebabf-e0b8-40dd-a067-80b43c7cca46",
   "metadata": {},
   "outputs": [],
   "source": []
  }
 ],
 "metadata": {
  "kernelspec": {
   "display_name": "Python 3",
   "language": "python",
   "name": "python3"
  },
  "language_info": {
   "codemirror_mode": {
    "name": "ipython",
    "version": 3
   },
   "file_extension": ".py",
   "mimetype": "text/x-python",
   "name": "python",
   "nbconvert_exporter": "python",
   "pygments_lexer": "ipython3",
   "version": "3.11.11"
  },
  "workshop": {
   "description": "A one-page PDF with a single block of text is easy mode. Things get more complicated when you have actual layouts.",
   "install": "natural-pdf[ai]",
   "links": [
    {
     "name": "Microsoft's table transfer (TATR)",
     "url": "https://github.com/microsoft/table-transformer"
    },
    {
     "name": "YOLO document layout",
     "url": "https://github.com/opendatalab/DocLayout-YOLO/"
    },
    {
     "name": "LayoutLMv3",
     "url": "https://huggingface.co/docs/transformers/en/model_doc/layoutlmv3"
    },
    {
     "name": "merveenoyan/smol-vision",
     "url": "https://github.com/merveenoyan/smol-vision"
    }
   ],
   "order": 4,
   "title": "Columns, multi-page flows and other page structures",
   "slides": "slides.pdf"
  }
 },
 "nbformat": 4,
 "nbformat_minor": 5
}